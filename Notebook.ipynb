{
 "cells": [
  {
   "cell_type": "code",
   "execution_count": 2,
   "metadata": {},
   "outputs": [
    {
     "ename": "OSError",
     "evalue": "mndata.txt not found.",
     "output_type": "error",
     "traceback": [
      "\u001b[1;31m---------------------------------------------------------------------------\u001b[0m",
      "\u001b[1;31mOSError\u001b[0m                                   Traceback (most recent call last)",
      "\u001b[1;32m<ipython-input-2-8c0718342e73>\u001b[0m in \u001b[0;36m<module>\u001b[1;34m\u001b[0m\n\u001b[0;32m     13\u001b[0m \u001b[1;33m\u001b[0m\u001b[0m\n\u001b[0;32m     14\u001b[0m \u001b[1;31m# Make sure to explain that you can load more than one type of file. (For example: txt and csv)\u001b[0m\u001b[1;33m\u001b[0m\u001b[1;33m\u001b[0m\u001b[1;33m\u001b[0m\u001b[0m\n\u001b[1;32m---> 15\u001b[1;33m mn_x,mn_y = np.loadtxt('mndata.txt',\n\u001b[0m\u001b[0;32m     16\u001b[0m                  \u001b[0munpack\u001b[0m\u001b[1;33m=\u001b[0m\u001b[1;32mTrue\u001b[0m\u001b[1;33m,\u001b[0m\u001b[1;33m\u001b[0m\u001b[1;33m\u001b[0m\u001b[0m\n\u001b[0;32m     17\u001b[0m                  delimiter=',')\n",
      "\u001b[1;32mc:\\python38-32\\lib\\site-packages\\numpy\\lib\\npyio.py\u001b[0m in \u001b[0;36mloadtxt\u001b[1;34m(fname, dtype, comments, delimiter, converters, skiprows, usecols, unpack, ndmin, encoding, max_rows)\u001b[0m\n\u001b[0;32m    979\u001b[0m             \u001b[0mfname\u001b[0m \u001b[1;33m=\u001b[0m \u001b[0mos_fspath\u001b[0m\u001b[1;33m(\u001b[0m\u001b[0mfname\u001b[0m\u001b[1;33m)\u001b[0m\u001b[1;33m\u001b[0m\u001b[1;33m\u001b[0m\u001b[0m\n\u001b[0;32m    980\u001b[0m         \u001b[1;32mif\u001b[0m \u001b[0m_is_string_like\u001b[0m\u001b[1;33m(\u001b[0m\u001b[0mfname\u001b[0m\u001b[1;33m)\u001b[0m\u001b[1;33m:\u001b[0m\u001b[1;33m\u001b[0m\u001b[1;33m\u001b[0m\u001b[0m\n\u001b[1;32m--> 981\u001b[1;33m             \u001b[0mfh\u001b[0m \u001b[1;33m=\u001b[0m \u001b[0mnp\u001b[0m\u001b[1;33m.\u001b[0m\u001b[0mlib\u001b[0m\u001b[1;33m.\u001b[0m\u001b[0m_datasource\u001b[0m\u001b[1;33m.\u001b[0m\u001b[0mopen\u001b[0m\u001b[1;33m(\u001b[0m\u001b[0mfname\u001b[0m\u001b[1;33m,\u001b[0m \u001b[1;34m'rt'\u001b[0m\u001b[1;33m,\u001b[0m \u001b[0mencoding\u001b[0m\u001b[1;33m=\u001b[0m\u001b[0mencoding\u001b[0m\u001b[1;33m)\u001b[0m\u001b[1;33m\u001b[0m\u001b[1;33m\u001b[0m\u001b[0m\n\u001b[0m\u001b[0;32m    982\u001b[0m             \u001b[0mfencoding\u001b[0m \u001b[1;33m=\u001b[0m \u001b[0mgetattr\u001b[0m\u001b[1;33m(\u001b[0m\u001b[0mfh\u001b[0m\u001b[1;33m,\u001b[0m \u001b[1;34m'encoding'\u001b[0m\u001b[1;33m,\u001b[0m \u001b[1;34m'latin1'\u001b[0m\u001b[1;33m)\u001b[0m\u001b[1;33m\u001b[0m\u001b[1;33m\u001b[0m\u001b[0m\n\u001b[0;32m    983\u001b[0m             \u001b[0mfh\u001b[0m \u001b[1;33m=\u001b[0m \u001b[0miter\u001b[0m\u001b[1;33m(\u001b[0m\u001b[0mfh\u001b[0m\u001b[1;33m)\u001b[0m\u001b[1;33m\u001b[0m\u001b[1;33m\u001b[0m\u001b[0m\n",
      "\u001b[1;32mc:\\python38-32\\lib\\site-packages\\numpy\\lib\\_datasource.py\u001b[0m in \u001b[0;36mopen\u001b[1;34m(path, mode, destpath, encoding, newline)\u001b[0m\n\u001b[0;32m    267\u001b[0m \u001b[1;33m\u001b[0m\u001b[0m\n\u001b[0;32m    268\u001b[0m     \u001b[0mds\u001b[0m \u001b[1;33m=\u001b[0m \u001b[0mDataSource\u001b[0m\u001b[1;33m(\u001b[0m\u001b[0mdestpath\u001b[0m\u001b[1;33m)\u001b[0m\u001b[1;33m\u001b[0m\u001b[1;33m\u001b[0m\u001b[0m\n\u001b[1;32m--> 269\u001b[1;33m     \u001b[1;32mreturn\u001b[0m \u001b[0mds\u001b[0m\u001b[1;33m.\u001b[0m\u001b[0mopen\u001b[0m\u001b[1;33m(\u001b[0m\u001b[0mpath\u001b[0m\u001b[1;33m,\u001b[0m \u001b[0mmode\u001b[0m\u001b[1;33m,\u001b[0m \u001b[0mencoding\u001b[0m\u001b[1;33m=\u001b[0m\u001b[0mencoding\u001b[0m\u001b[1;33m,\u001b[0m \u001b[0mnewline\u001b[0m\u001b[1;33m=\u001b[0m\u001b[0mnewline\u001b[0m\u001b[1;33m)\u001b[0m\u001b[1;33m\u001b[0m\u001b[1;33m\u001b[0m\u001b[0m\n\u001b[0m\u001b[0;32m    270\u001b[0m \u001b[1;33m\u001b[0m\u001b[0m\n\u001b[0;32m    271\u001b[0m \u001b[1;33m\u001b[0m\u001b[0m\n",
      "\u001b[1;32mc:\\python38-32\\lib\\site-packages\\numpy\\lib\\_datasource.py\u001b[0m in \u001b[0;36mopen\u001b[1;34m(self, path, mode, encoding, newline)\u001b[0m\n\u001b[0;32m    621\u001b[0m                                       encoding=encoding, newline=newline)\n\u001b[0;32m    622\u001b[0m         \u001b[1;32melse\u001b[0m\u001b[1;33m:\u001b[0m\u001b[1;33m\u001b[0m\u001b[1;33m\u001b[0m\u001b[0m\n\u001b[1;32m--> 623\u001b[1;33m             \u001b[1;32mraise\u001b[0m \u001b[0mIOError\u001b[0m\u001b[1;33m(\u001b[0m\u001b[1;34m\"%s not found.\"\u001b[0m \u001b[1;33m%\u001b[0m \u001b[0mpath\u001b[0m\u001b[1;33m)\u001b[0m\u001b[1;33m\u001b[0m\u001b[1;33m\u001b[0m\u001b[0m\n\u001b[0m\u001b[0;32m    624\u001b[0m \u001b[1;33m\u001b[0m\u001b[0m\n\u001b[0;32m    625\u001b[0m \u001b[1;33m\u001b[0m\u001b[0m\n",
      "\u001b[1;31mOSError\u001b[0m: mndata.txt not found."
     ]
    }
   ],
   "source": [
    "import matplotlib.pyplot as plt\n",
    "from matplotlib import style\n",
    "import numpy as np\n"
   ]
  },
  {
   "cell_type": "code",
   "execution_count": null,
   "metadata": {},
   "outputs": [],
   "source": [
    "style.use('seaborn-whitegrid')\n",
    "#Show the different styles.\n",
    "#fivethirtyeight\n",
    "#seaborn-pastel\n",
    "#seaborn-whitegrid\n",
    "#ggplot\n",
    "#grayscale"
   ]
  },
  {
   "cell_type": "code",
   "execution_count": null,
   "metadata": {},
   "outputs": [],
   "source": [
    "# Make sure to explain that you can load more than one type of file. (For example: txt and csv)\n",
    "mn_x,mn_y = np.loadtxt('mndata.txt',\n",
    "                 unpack=True,\n",
    "                 delimiter=',')\n",
    "\n",
    "\n",
    "us_x,us_y = np.loadtxt('usincome.txt',\n",
    "                 unpack=True,\n",
    "                 delimiter=',')\n",
    "\n",
    "oh_x,oh_y = np.loadtxt('ohiodatatest.csv',\n",
    "                 unpack=True,\n",
    "                 delimiter=',',\n",
    "                       skiprows=1)\n",
    "\n",
    "wi_x,wi_y = np.loadtxt('wisconsindata.csv',\n",
    "                 unpack=True,\n",
    "                 delimiter=',',\n",
    "                       skiprows=1)\n",
    "\n",
    "mi_x,mi_y = np.loadtxt('michigandata.csv',\n",
    "                 unpack=True,\n",
    "                 delimiter=',',\n",
    "                       skiprows=1)\n",
    "\n",
    "il_x,il_y = np.loadtxt('illinoisdata.csv',\n",
    "                 unpack=True,\n",
    "                 delimiter=',',\n",
    "                       skiprows=1)\n",
    "\n",
    "in_x,in_y = np.loadtxt('indianadata.csv',\n",
    "                 unpack=True,\n",
    "                 delimiter=',',\n",
    "                       skiprows=1)"
   ]
  },
  {
   "cell_type": "code",
   "execution_count": null,
   "metadata": {},
   "outputs": [],
   "source": [
    "# This is the portion of the data study that determines the average growth rate.\n",
    "\n",
    "StateList = [us_y, mn_y, wi_y,il_y,in_y,mi_y,oh_y]   #Add State as required\n",
    "StateNames = [\"The United States\", \"Minnesota\",\"Wisconsin\", \"Illinois\", \"Indiana\", \"Michigan\", \"Ohio\"] #Add States as required\n",
    "\n",
    "#creating an empty list that will contain the average growth rates\n",
    "growthRateList = []\n"
   ]
  },
  {
   "cell_type": "code",
   "execution_count": null,
   "metadata": {},
   "outputs": [],
   "source": [
    "for i in range(len(StateList)):\n",
    "    State = StateList[i]\n",
    "    NextState =StateNames[i]\n",
    "    count = 0\n",
    "    CountOfValues = len(State) - 1\n",
    "    GrowthRateTotal = 0\n",
    "    for i in State:#Circle through every value in the State\n",
    "            count = count + 1\n",
    "            if count == CountOfValues+1:\n",
    "                break\n",
    "            else:\n",
    "                nextnumberinset = State[count] #Find the next value the set\n",
    "                AnnualGR = float(((nextnumberinset - i) / i))\n",
    "                GrowthRateTotal = GrowthRateTotal + AnnualGR\n",
    "    print(\"The Average Income Growth for {} per year is {:.3f}%\".format(NextState,(GrowthRateTotal/CountOfValues*100)))\n",
    "    growthRateList.append(GrowthRateTotal / CountOfValues * 100)\n"
   ]
  },
  {
   "cell_type": "code",
   "execution_count": null,
   "metadata": {},
   "outputs": [],
   "source": [
    "maxrate = max(growthRateList)\n",
    "MaxGR=growthRateList. index(maxrate)\n",
    "maxstate = StateNames[MaxGR]\n",
    "growthRateList.append(GrowthRateTotal/CountOfValues*100)\n"
   ]
  },
  {
   "cell_type": "code",
   "execution_count": null,
   "metadata": {},
   "outputs": [],
   "source": [
    "# This is how you associate each states information with the plot.\n",
    "plt.plot(us_x,us_y, label='United States')\n",
    "plt.plot(oh_x,oh_y, label='Ohio')\n",
    "plt.plot(wi_x,wi_y, label='Wisconsin')"
   ]
  },
  {
   "cell_type": "code",
   "execution_count": null,
   "metadata": {},
   "outputs": [],
   "source": [
    "# Notice how a marker can also be added to the plot.  I chose to have it appear as dots.\n",
    "plt.plot(mn_x,mn_y, label='Minnesota', marker= '.')\n",
    "plt.plot(mi_x,mi_y, label='Michigan')\n",
    "plt.plot(il_x,il_y, label='Illinois')\n",
    "plt.plot(in_x,in_y, label='Indiana')\n",
    "plt.title('Historical Great-Lake State Incomes')\n",
    "plt.ylabel('Income in USD')\n",
    "plt.xlabel('Year')\n",
    "plt.legend(title = 'Legend') "
   ]
  },
  {
   "cell_type": "code",
   "execution_count": null,
   "metadata": {},
   "outputs": [],
   "source": [
    "# How you add text to a plot.\n",
    "x_pos = 1995\n",
    "y_pos = 20000\n",
    "plt.text(x_pos, y_pos, \"The State with the highest \\n average income growth is: \\n\" + maxstate + \" : \" + str(maxrate), color = 'red', fontsize = 15)\n"
   ]
  },
  {
   "cell_type": "code",
   "execution_count": null,
   "metadata": {},
   "outputs": [],
   "source": [
    "plt.show()"
   ]
  }
 ],
 "metadata": {
  "kernelspec": {
   "display_name": "Python 3",
   "language": "python",
   "name": "python3"
  },
  "language_info": {
   "codemirror_mode": {
    "name": "ipython",
    "version": 3
   },
   "file_extension": ".py",
   "mimetype": "text/x-python",
   "name": "python",
   "nbconvert_exporter": "python",
   "pygments_lexer": "ipython3",
   "version": "3.8.3"
  }
 },
 "nbformat": 4,
 "nbformat_minor": 4
}
